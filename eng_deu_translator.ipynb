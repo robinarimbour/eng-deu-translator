{
  "nbformat": 4,
  "nbformat_minor": 0,
  "metadata": {
    "colab": {
      "name": "eng-deu-translator.ipynb",
      "provenance": [],
      "collapsed_sections": [],
      "authorship_tag": "ABX9TyNFyCVi0r0uu9/rQu67SGYN",
      "include_colab_link": true
    },
    "kernelspec": {
      "name": "python3",
      "display_name": "Python 3"
    },
    "language_info": {
      "name": "python"
    }
  },
  "cells": [
    {
      "cell_type": "markdown",
      "metadata": {
        "id": "view-in-github",
        "colab_type": "text"
      },
      "source": [
        "<a href=\"https://colab.research.google.com/github/robinarimbour/eng-deu-translator/blob/main/eng_deu_translator.ipynb\" target=\"_parent\"><img src=\"https://colab.research.google.com/assets/colab-badge.svg\" alt=\"Open In Colab\"/></a>"
      ]
    },
    {
      "cell_type": "markdown",
      "source": [
        "# English to German Neural Machine Translator using Keras in Colab"
      ],
      "metadata": {
        "id": "DU9QUSNH0mq8"
      }
    },
    {
      "cell_type": "markdown",
      "source": [
        "## Mounting Google Drive and reading file."
      ],
      "metadata": {
        "id": "JOo4mYEz6t6k"
      }
    },
    {
      "cell_type": "code",
      "source": [
        "#Run this cell to mount your Google Drive.\n",
        "from google.colab import drive\n",
        "drive.mount('/content/drive')"
      ],
      "metadata": {
        "colab": {
          "base_uri": "https://localhost:8080/"
        },
        "id": "TKDmf3TV0UK7",
        "outputId": "05325219-6e44-47a8-c9a7-d55d8ea2cf78"
      },
      "execution_count": 1,
      "outputs": [
        {
          "output_type": "stream",
          "name": "stdout",
          "text": [
            "Mounted at /content/drive\n"
          ]
        }
      ]
    },
    {
      "cell_type": "code",
      "source": [
        "data_path = \"/content/drive/My Drive/eng-deu/\"\n",
        "with open(data_path + 'deu.txt', \"r\", encoding=\"utf-8\") as f:\n",
        "    lines = f.read().split(\"\\n\")"
      ],
      "metadata": {
        "id": "FuzU_WHu0cT6"
      },
      "execution_count": 2,
      "outputs": []
    },
    {
      "cell_type": "markdown",
      "source": [
        "## Preprocessing the data"
      ],
      "metadata": {
        "id": "BlkyuBIg8m-E"
      }
    },
    {
      "cell_type": "code",
      "source": [
        "import numpy as np\n",
        "import tensorflow as tf\n",
        "from tensorflow import keras"
      ],
      "metadata": {
        "id": "ROZ2Eobt8smh"
      },
      "execution_count": 3,
      "outputs": []
    },
    {
      "cell_type": "code",
      "source": [
        "m_train = 10000     #Number of training samples.\n",
        "\n",
        "input_texts = []\n",
        "target_texts = []\n",
        "input_characters = set()\n",
        "target_characters = set()\n",
        "for line in lines[: m_train]:\n",
        "    input_text, target_text = line.split(\"\\t\")\n",
        "    # Using \"\\t\" as the \"beginning of sequence\" character and \"\\n\" as the \"end of sequence\" character.\n",
        "    target_text = \"\\t\" + target_text + \"\\n\"\n",
        "    input_texts.append(input_text)\n",
        "    target_texts.append(target_text)\n",
        "    # Tokenizing the characters.\n",
        "    for char in input_text:\n",
        "        if char not in input_characters:\n",
        "            input_characters.add(char)\n",
        "    for char in target_text:\n",
        "        if char not in target_characters:\n",
        "            target_characters.add(char)"
      ],
      "metadata": {
        "id": "7OGyjfgu8-5b"
      },
      "execution_count": 4,
      "outputs": []
    },
    {
      "cell_type": "code",
      "source": [
        "input_characters = sorted(list(input_characters))\n",
        "target_characters = sorted(list(target_characters))\n",
        "num_encoder_tokens = len(input_characters)\n",
        "num_decoder_tokens = len(target_characters)\n",
        "max_encoder_seq_length = max([len(txt) for txt in input_texts])\n",
        "max_decoder_seq_length = max([len(txt) for txt in target_texts])\n",
        "\n",
        "print(\"Number of samples:\", m_train)\n",
        "print(\"Number of unique input tokens:\", num_encoder_tokens)\n",
        "print(\"Number of unique output tokens:\", num_decoder_tokens)\n",
        "print(\"Max sequence length for inputs:\", max_encoder_seq_length)\n",
        "print(\"Max sequence length for outputs:\", max_decoder_seq_length)"
      ],
      "metadata": {
        "colab": {
          "base_uri": "https://localhost:8080/"
        },
        "id": "IyHqGpjh-ztu",
        "outputId": "7b235daa-a372-4435-f0f1-2535a8304538"
      },
      "execution_count": 5,
      "outputs": [
        {
          "output_type": "stream",
          "name": "stdout",
          "text": [
            "Number of samples: 10000\n",
            "Number of unique input tokens: 70\n",
            "Number of unique output tokens: 86\n",
            "Max sequence length for inputs: 17\n",
            "Max sequence length for outputs: 53\n"
          ]
        }
      ]
    },
    {
      "cell_type": "code",
      "source": [
        "# Creating dictionaries for accessing token index of characters and vice-versa.\n",
        "input_char2idx = dict([(char, i) for i, char in enumerate(input_characters)])\n",
        "target_char2idx = dict([(char, i) for i, char in enumerate(target_characters)])\n",
        "\n",
        "input_idx2char = dict([(i, char) for i, char in enumerate(input_characters)])\n",
        "target_idx2char = dict([(i, char) for i, char in enumerate(target_characters)])"
      ],
      "metadata": {
        "id": "YBpYdukx_BEI"
      },
      "execution_count": 6,
      "outputs": []
    },
    {
      "cell_type": "markdown",
      "source": [
        "Flow of sequence to sequence character level model\n"
      ],
      "metadata": {
        "id": "717YsT74NoDO"
      }
    },
    {
      "cell_type": "markdown",
      "source": [
        "![Character level seq2seq english to german.png](data:image/png;base64,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)"
      ],
      "metadata": {
        "id": "8sPRzM5CNcCj"
      }
    },
    {
      "cell_type": "code",
      "source": [
        "encoder_input_data = np.zeros(\n",
        "    (m_train, max_encoder_seq_length, num_encoder_tokens), dtype=\"float32\")\n",
        "decoder_input_data = np.zeros(\n",
        "    (m_train, max_decoder_seq_length, num_decoder_tokens), dtype=\"float32\")\n",
        "decoder_target_data = np.zeros(\n",
        "    (m_train, max_decoder_seq_length, num_decoder_tokens), dtype=\"float32\")\n",
        "\n",
        "for i, (input_text, target_text) in enumerate(zip(input_texts, target_texts)):\n",
        "    for t, char in enumerate(input_text):\n",
        "        encoder_input_data[i, t, input_char2idx[char]] = 1.0\n",
        "    # Padding the sequences with space characters.\n",
        "    encoder_input_data[i, t + 1 :, input_char2idx[\" \"]] = 1.0\n",
        "    for t, char in enumerate(target_text):\n",
        "        if (t < len(target_text)-1):\n",
        "            # decoder_input_data will not include the end of sequence character\n",
        "            decoder_input_data[i, t, target_char2idx[char]] = 1.0\n",
        "        if t > 0:\n",
        "            # decoder_target_data will be ahead by one timestep and will not include the beginning of sequence character.\n",
        "            decoder_target_data[i, t - 1, target_char2idx[char]] = 1.0\n",
        "    # Padding the sequences with space characters.\n",
        "    decoder_input_data[i, t:, target_char2idx[\" \"]] = 1.0\n",
        "    decoder_target_data[i, t:, target_char2idx[\" \"]] = 1.0"
      ],
      "metadata": {
        "id": "aHabS4GC_53n"
      },
      "execution_count": 7,
      "outputs": []
    },
    {
      "cell_type": "markdown",
      "source": [
        "## Building the model"
      ],
      "metadata": {
        "id": "M5orPeCLPQUB"
      }
    },
    {
      "cell_type": "code",
      "source": [
        "HIDDEN_DIM = 256\n",
        "\n",
        "# Encoder Sequence\n",
        "encoder_inputs = keras.Input(shape=(None, num_encoder_tokens), name=\"encoder_inputs\")\n",
        "encoder_lstm = keras.layers.LSTM(HIDDEN_DIM, return_state=True, name=\"encoder_lstm\")\n",
        "_, state_h, state_c = encoder_lstm(encoder_inputs)\n",
        "\n",
        "# Discard the output and only keep the states.\n",
        "encoder_states = [state_h, state_c]\n",
        "\n",
        "# Decoder Sequence using `encoder_states` as initial state.\n",
        "decoder_inputs = keras.Input(shape=(None, num_decoder_tokens), name=\"decoder_inputs\")\n",
        "decoder_lstm = keras.layers.LSTM(HIDDEN_DIM, return_sequences=True, return_state=True, name=\"decoder_lstm\")\n",
        "decoder_outputs, _, _ = decoder_lstm(decoder_inputs, initial_state=encoder_states)\n",
        "decoder_dense = keras.layers.Dense(num_decoder_tokens, activation=\"softmax\",  name=\"decoder_dense\")\n",
        "decoder_outputs = decoder_dense(decoder_outputs)\n",
        "\n",
        "# Build the model that takes in `encoder_input_data` & `decoder_input_data` as input and gives `decoder_target_data` as output.\n",
        "model = keras.Model([encoder_inputs, decoder_inputs], decoder_outputs,  name=\"train_model\")\n",
        "model.summary()"
      ],
      "metadata": {
        "colab": {
          "base_uri": "https://localhost:8080/"
        },
        "id": "iJGYhflqOIsY",
        "outputId": "592e547e-6927-401e-b11a-8b68984f3dad"
      },
      "execution_count": 8,
      "outputs": [
        {
          "output_type": "stream",
          "name": "stdout",
          "text": [
            "Model: \"train_model\"\n",
            "__________________________________________________________________________________________________\n",
            " Layer (type)                   Output Shape         Param #     Connected to                     \n",
            "==================================================================================================\n",
            " encoder_inputs (InputLayer)    [(None, None, 70)]   0           []                               \n",
            "                                                                                                  \n",
            " decoder_inputs (InputLayer)    [(None, None, 86)]   0           []                               \n",
            "                                                                                                  \n",
            " encoder_lstm (LSTM)            [(None, 256),        334848      ['encoder_inputs[0][0]']         \n",
            "                                 (None, 256),                                                     \n",
            "                                 (None, 256)]                                                     \n",
            "                                                                                                  \n",
            " decoder_lstm (LSTM)            [(None, None, 256),  351232      ['decoder_inputs[0][0]',         \n",
            "                                 (None, 256),                     'encoder_lstm[0][1]',           \n",
            "                                 (None, 256)]                     'encoder_lstm[0][2]']           \n",
            "                                                                                                  \n",
            " decoder_dense (Dense)          (None, None, 86)     22102       ['decoder_lstm[0][0]']           \n",
            "                                                                                                  \n",
            "==================================================================================================\n",
            "Total params: 708,182\n",
            "Trainable params: 708,182\n",
            "Non-trainable params: 0\n",
            "__________________________________________________________________________________________________\n"
          ]
        }
      ]
    },
    {
      "cell_type": "markdown",
      "source": [
        "## Training the model"
      ],
      "metadata": {
        "id": "phAGuyoTQbDW"
      }
    },
    {
      "cell_type": "code",
      "source": [
        "batch_size = 64\n",
        "epochs = 100"
      ],
      "metadata": {
        "id": "0KYGvwyKQeEu"
      },
      "execution_count": 9,
      "outputs": []
    },
    {
      "cell_type": "code",
      "source": [
        "model.compile(optimizer=\"rmsprop\", loss=\"categorical_crossentropy\", metrics=[\"accuracy\"])\n",
        "history = model.fit(\n",
        "    [encoder_input_data, decoder_input_data], decoder_target_data, \n",
        "    batch_size=batch_size, epochs=epochs, validation_split=0.2)\n",
        "print(\"Model created\")"
      ],
      "metadata": {
        "colab": {
          "base_uri": "https://localhost:8080/"
        },
        "id": "Vink17qpQmiW",
        "outputId": "f517ed27-6b43-432a-96db-77b70811fa5b"
      },
      "execution_count": 11,
      "outputs": [
        {
          "output_type": "stream",
          "name": "stdout",
          "text": [
            "Epoch 1/100\n",
            "125/125 [==============================] - 52s 388ms/step - loss: 1.3338 - accuracy: 0.6793 - val_loss: 1.2456 - val_accuracy: 0.6509\n",
            "Epoch 2/100\n",
            "125/125 [==============================] - 47s 374ms/step - loss: 0.9586 - accuracy: 0.7442 - val_loss: 0.9580 - val_accuracy: 0.7390\n",
            "Epoch 3/100\n",
            "125/125 [==============================] - 47s 372ms/step - loss: 0.7722 - accuracy: 0.7874 - val_loss: 0.8257 - val_accuracy: 0.7683\n",
            "Epoch 4/100\n",
            "125/125 [==============================] - 47s 374ms/step - loss: 0.6832 - accuracy: 0.8061 - val_loss: 0.7528 - val_accuracy: 0.7842\n",
            "Epoch 5/100\n",
            "125/125 [==============================] - 47s 377ms/step - loss: 0.6309 - accuracy: 0.8189 - val_loss: 0.7130 - val_accuracy: 0.7959\n",
            "Epoch 6/100\n",
            "125/125 [==============================] - 47s 380ms/step - loss: 0.5903 - accuracy: 0.8297 - val_loss: 0.6833 - val_accuracy: 0.8031\n",
            "Epoch 7/100\n",
            "125/125 [==============================] - 48s 388ms/step - loss: 0.5567 - accuracy: 0.8385 - val_loss: 0.6476 - val_accuracy: 0.8134\n",
            "Epoch 8/100\n",
            "125/125 [==============================] - 48s 384ms/step - loss: 0.5306 - accuracy: 0.8457 - val_loss: 0.6266 - val_accuracy: 0.8194\n",
            "Epoch 9/100\n",
            "125/125 [==============================] - 48s 386ms/step - loss: 0.5081 - accuracy: 0.8520 - val_loss: 0.6024 - val_accuracy: 0.8249\n",
            "Epoch 10/100\n",
            "125/125 [==============================] - 50s 400ms/step - loss: 0.4871 - accuracy: 0.8581 - val_loss: 0.5927 - val_accuracy: 0.8272\n",
            "Epoch 11/100\n",
            "125/125 [==============================] - 50s 397ms/step - loss: 0.4692 - accuracy: 0.8630 - val_loss: 0.5805 - val_accuracy: 0.8318\n",
            "Epoch 12/100\n",
            "125/125 [==============================] - 49s 391ms/step - loss: 0.4520 - accuracy: 0.8682 - val_loss: 0.5649 - val_accuracy: 0.8345\n",
            "Epoch 13/100\n",
            "125/125 [==============================] - 49s 392ms/step - loss: 0.4371 - accuracy: 0.8726 - val_loss: 0.5570 - val_accuracy: 0.8385\n",
            "Epoch 14/100\n",
            "125/125 [==============================] - 49s 395ms/step - loss: 0.4221 - accuracy: 0.8768 - val_loss: 0.5478 - val_accuracy: 0.8405\n",
            "Epoch 15/100\n",
            "125/125 [==============================] - 48s 383ms/step - loss: 0.4083 - accuracy: 0.8809 - val_loss: 0.5409 - val_accuracy: 0.8430\n",
            "Epoch 16/100\n",
            "125/125 [==============================] - 49s 390ms/step - loss: 0.3947 - accuracy: 0.8847 - val_loss: 0.5318 - val_accuracy: 0.8464\n",
            "Epoch 17/100\n",
            "125/125 [==============================] - 49s 394ms/step - loss: 0.3827 - accuracy: 0.8885 - val_loss: 0.5239 - val_accuracy: 0.8485\n",
            "Epoch 18/100\n",
            "125/125 [==============================] - 49s 394ms/step - loss: 0.3711 - accuracy: 0.8920 - val_loss: 0.5203 - val_accuracy: 0.8497\n",
            "Epoch 19/100\n",
            "125/125 [==============================] - 49s 393ms/step - loss: 0.3596 - accuracy: 0.8958 - val_loss: 0.5182 - val_accuracy: 0.8500\n",
            "Epoch 20/100\n",
            "125/125 [==============================] - 49s 393ms/step - loss: 0.3490 - accuracy: 0.8983 - val_loss: 0.5171 - val_accuracy: 0.8507\n",
            "Epoch 21/100\n",
            "125/125 [==============================] - 49s 392ms/step - loss: 0.3391 - accuracy: 0.9011 - val_loss: 0.5163 - val_accuracy: 0.8516\n",
            "Epoch 22/100\n",
            "125/125 [==============================] - 49s 394ms/step - loss: 0.3294 - accuracy: 0.9042 - val_loss: 0.5147 - val_accuracy: 0.8537\n",
            "Epoch 23/100\n",
            "125/125 [==============================] - 49s 394ms/step - loss: 0.3199 - accuracy: 0.9069 - val_loss: 0.5134 - val_accuracy: 0.8538\n",
            "Epoch 24/100\n",
            "125/125 [==============================] - 48s 382ms/step - loss: 0.3110 - accuracy: 0.9099 - val_loss: 0.5121 - val_accuracy: 0.8560\n",
            "Epoch 25/100\n",
            "125/125 [==============================] - 47s 373ms/step - loss: 0.3015 - accuracy: 0.9125 - val_loss: 0.5154 - val_accuracy: 0.8554\n",
            "Epoch 26/100\n",
            "125/125 [==============================] - 47s 375ms/step - loss: 0.2936 - accuracy: 0.9149 - val_loss: 0.5140 - val_accuracy: 0.8561\n",
            "Epoch 27/100\n",
            "125/125 [==============================] - 47s 379ms/step - loss: 0.2856 - accuracy: 0.9175 - val_loss: 0.5193 - val_accuracy: 0.8548\n",
            "Epoch 28/100\n",
            "125/125 [==============================] - 48s 382ms/step - loss: 0.2770 - accuracy: 0.9199 - val_loss: 0.5148 - val_accuracy: 0.8573\n",
            "Epoch 29/100\n",
            "125/125 [==============================] - 48s 384ms/step - loss: 0.2702 - accuracy: 0.9217 - val_loss: 0.5206 - val_accuracy: 0.8571\n",
            "Epoch 30/100\n",
            "125/125 [==============================] - 48s 383ms/step - loss: 0.2624 - accuracy: 0.9241 - val_loss: 0.5199 - val_accuracy: 0.8578\n",
            "Epoch 31/100\n",
            "125/125 [==============================] - 48s 382ms/step - loss: 0.2557 - accuracy: 0.9263 - val_loss: 0.5275 - val_accuracy: 0.8562\n",
            "Epoch 32/100\n",
            "125/125 [==============================] - 48s 385ms/step - loss: 0.2490 - accuracy: 0.9283 - val_loss: 0.5278 - val_accuracy: 0.8572\n",
            "Epoch 33/100\n",
            "125/125 [==============================] - 47s 377ms/step - loss: 0.2425 - accuracy: 0.9303 - val_loss: 0.5298 - val_accuracy: 0.8575\n",
            "Epoch 34/100\n",
            "125/125 [==============================] - 47s 376ms/step - loss: 0.2364 - accuracy: 0.9318 - val_loss: 0.5319 - val_accuracy: 0.8577\n",
            "Epoch 35/100\n",
            "125/125 [==============================] - 46s 367ms/step - loss: 0.2303 - accuracy: 0.9338 - val_loss: 0.5382 - val_accuracy: 0.8568\n",
            "Epoch 36/100\n",
            "125/125 [==============================] - 47s 378ms/step - loss: 0.2240 - accuracy: 0.9355 - val_loss: 0.5383 - val_accuracy: 0.8583\n",
            "Epoch 37/100\n",
            "125/125 [==============================] - 48s 382ms/step - loss: 0.2182 - accuracy: 0.9370 - val_loss: 0.5459 - val_accuracy: 0.8577\n",
            "Epoch 38/100\n",
            "125/125 [==============================] - 47s 375ms/step - loss: 0.2131 - accuracy: 0.9385 - val_loss: 0.5501 - val_accuracy: 0.8567\n",
            "Epoch 39/100\n",
            "125/125 [==============================] - 46s 368ms/step - loss: 0.2077 - accuracy: 0.9404 - val_loss: 0.5540 - val_accuracy: 0.8577\n",
            "Epoch 40/100\n",
            "125/125 [==============================] - 47s 379ms/step - loss: 0.2025 - accuracy: 0.9419 - val_loss: 0.5613 - val_accuracy: 0.8557\n",
            "Epoch 41/100\n",
            "125/125 [==============================] - 49s 389ms/step - loss: 0.1979 - accuracy: 0.9431 - val_loss: 0.5723 - val_accuracy: 0.8555\n",
            "Epoch 42/100\n",
            "125/125 [==============================] - 48s 386ms/step - loss: 0.1934 - accuracy: 0.9444 - val_loss: 0.5612 - val_accuracy: 0.8581\n",
            "Epoch 43/100\n",
            "125/125 [==============================] - 48s 385ms/step - loss: 0.1887 - accuracy: 0.9456 - val_loss: 0.5701 - val_accuracy: 0.8577\n",
            "Epoch 44/100\n",
            "125/125 [==============================] - 47s 379ms/step - loss: 0.1840 - accuracy: 0.9473 - val_loss: 0.5763 - val_accuracy: 0.8571\n",
            "Epoch 45/100\n",
            "125/125 [==============================] - 47s 376ms/step - loss: 0.1802 - accuracy: 0.9480 - val_loss: 0.5776 - val_accuracy: 0.8567\n",
            "Epoch 46/100\n",
            "125/125 [==============================] - 47s 377ms/step - loss: 0.1756 - accuracy: 0.9496 - val_loss: 0.5860 - val_accuracy: 0.8569\n",
            "Epoch 47/100\n",
            "125/125 [==============================] - 48s 383ms/step - loss: 0.1719 - accuracy: 0.9507 - val_loss: 0.5919 - val_accuracy: 0.8568\n",
            "Epoch 48/100\n",
            "125/125 [==============================] - 49s 392ms/step - loss: 0.1679 - accuracy: 0.9518 - val_loss: 0.5930 - val_accuracy: 0.8568\n",
            "Epoch 49/100\n",
            "125/125 [==============================] - 49s 390ms/step - loss: 0.1644 - accuracy: 0.9527 - val_loss: 0.5990 - val_accuracy: 0.8561\n",
            "Epoch 50/100\n",
            "125/125 [==============================] - 48s 387ms/step - loss: 0.1606 - accuracy: 0.9541 - val_loss: 0.6035 - val_accuracy: 0.8567\n",
            "Epoch 51/100\n",
            "125/125 [==============================] - 49s 394ms/step - loss: 0.1575 - accuracy: 0.9548 - val_loss: 0.6085 - val_accuracy: 0.8580\n",
            "Epoch 52/100\n",
            "125/125 [==============================] - 49s 389ms/step - loss: 0.1536 - accuracy: 0.9560 - val_loss: 0.6124 - val_accuracy: 0.8570\n",
            "Epoch 53/100\n",
            "125/125 [==============================] - 48s 387ms/step - loss: 0.1507 - accuracy: 0.9566 - val_loss: 0.6179 - val_accuracy: 0.8564\n",
            "Epoch 54/100\n",
            "125/125 [==============================] - 49s 390ms/step - loss: 0.1474 - accuracy: 0.9577 - val_loss: 0.6239 - val_accuracy: 0.8573\n",
            "Epoch 55/100\n",
            "125/125 [==============================] - 48s 383ms/step - loss: 0.1447 - accuracy: 0.9585 - val_loss: 0.6283 - val_accuracy: 0.8559\n",
            "Epoch 56/100\n",
            "125/125 [==============================] - 48s 388ms/step - loss: 0.1416 - accuracy: 0.9596 - val_loss: 0.6385 - val_accuracy: 0.8555\n",
            "Epoch 57/100\n",
            "125/125 [==============================] - 48s 387ms/step - loss: 0.1384 - accuracy: 0.9602 - val_loss: 0.6392 - val_accuracy: 0.8566\n",
            "Epoch 58/100\n",
            "125/125 [==============================] - 48s 386ms/step - loss: 0.1359 - accuracy: 0.9611 - val_loss: 0.6408 - val_accuracy: 0.8563\n",
            "Epoch 59/100\n",
            "125/125 [==============================] - 48s 384ms/step - loss: 0.1331 - accuracy: 0.9616 - val_loss: 0.6460 - val_accuracy: 0.8563\n",
            "Epoch 60/100\n",
            "125/125 [==============================] - 48s 383ms/step - loss: 0.1306 - accuracy: 0.9622 - val_loss: 0.6515 - val_accuracy: 0.8561\n",
            "Epoch 61/100\n",
            "125/125 [==============================] - 49s 392ms/step - loss: 0.1280 - accuracy: 0.9631 - val_loss: 0.6569 - val_accuracy: 0.8570\n",
            "Epoch 62/100\n",
            "125/125 [==============================] - 49s 390ms/step - loss: 0.1258 - accuracy: 0.9636 - val_loss: 0.6632 - val_accuracy: 0.8547\n",
            "Epoch 63/100\n",
            "125/125 [==============================] - 48s 385ms/step - loss: 0.1232 - accuracy: 0.9646 - val_loss: 0.6696 - val_accuracy: 0.8553\n",
            "Epoch 64/100\n",
            "125/125 [==============================] - 48s 386ms/step - loss: 0.1209 - accuracy: 0.9650 - val_loss: 0.6696 - val_accuracy: 0.8555\n",
            "Epoch 65/100\n",
            "125/125 [==============================] - 48s 384ms/step - loss: 0.1189 - accuracy: 0.9658 - val_loss: 0.6844 - val_accuracy: 0.8556\n",
            "Epoch 66/100\n",
            "125/125 [==============================] - 48s 381ms/step - loss: 0.1165 - accuracy: 0.9662 - val_loss: 0.6849 - val_accuracy: 0.8549\n",
            "Epoch 67/100\n",
            "125/125 [==============================] - 48s 384ms/step - loss: 0.1147 - accuracy: 0.9669 - val_loss: 0.6896 - val_accuracy: 0.8552\n",
            "Epoch 68/100\n",
            "125/125 [==============================] - 48s 383ms/step - loss: 0.1124 - accuracy: 0.9675 - val_loss: 0.6978 - val_accuracy: 0.8543\n",
            "Epoch 69/100\n",
            "125/125 [==============================] - 48s 383ms/step - loss: 0.1110 - accuracy: 0.9679 - val_loss: 0.6994 - val_accuracy: 0.8554\n",
            "Epoch 70/100\n",
            "125/125 [==============================] - 47s 375ms/step - loss: 0.1084 - accuracy: 0.9688 - val_loss: 0.6996 - val_accuracy: 0.8556\n",
            "Epoch 71/100\n",
            "125/125 [==============================] - 47s 377ms/step - loss: 0.1069 - accuracy: 0.9688 - val_loss: 0.7104 - val_accuracy: 0.8549\n",
            "Epoch 72/100\n",
            "125/125 [==============================] - 47s 377ms/step - loss: 0.1048 - accuracy: 0.9696 - val_loss: 0.7132 - val_accuracy: 0.8545\n",
            "Epoch 73/100\n",
            "125/125 [==============================] - 47s 379ms/step - loss: 0.1030 - accuracy: 0.9699 - val_loss: 0.7135 - val_accuracy: 0.8545\n",
            "Epoch 74/100\n",
            "125/125 [==============================] - 45s 363ms/step - loss: 0.1016 - accuracy: 0.9704 - val_loss: 0.7215 - val_accuracy: 0.8551\n",
            "Epoch 75/100\n",
            "125/125 [==============================] - 45s 361ms/step - loss: 0.0999 - accuracy: 0.9708 - val_loss: 0.7309 - val_accuracy: 0.8542\n",
            "Epoch 76/100\n",
            "125/125 [==============================] - 45s 359ms/step - loss: 0.0981 - accuracy: 0.9714 - val_loss: 0.7347 - val_accuracy: 0.8551\n",
            "Epoch 77/100\n",
            "125/125 [==============================] - 45s 361ms/step - loss: 0.0967 - accuracy: 0.9717 - val_loss: 0.7415 - val_accuracy: 0.8542\n",
            "Epoch 78/100\n",
            "125/125 [==============================] - 47s 374ms/step - loss: 0.0950 - accuracy: 0.9722 - val_loss: 0.7456 - val_accuracy: 0.8545\n",
            "Epoch 79/100\n",
            "125/125 [==============================] - 45s 357ms/step - loss: 0.0933 - accuracy: 0.9726 - val_loss: 0.7555 - val_accuracy: 0.8532\n",
            "Epoch 80/100\n",
            "125/125 [==============================] - 45s 358ms/step - loss: 0.0920 - accuracy: 0.9730 - val_loss: 0.7569 - val_accuracy: 0.8540\n",
            "Epoch 81/100\n",
            "125/125 [==============================] - 45s 360ms/step - loss: 0.0904 - accuracy: 0.9735 - val_loss: 0.7481 - val_accuracy: 0.8550\n",
            "Epoch 82/100\n",
            "125/125 [==============================] - 45s 359ms/step - loss: 0.0890 - accuracy: 0.9738 - val_loss: 0.7588 - val_accuracy: 0.8533\n",
            "Epoch 83/100\n",
            "125/125 [==============================] - 45s 360ms/step - loss: 0.0875 - accuracy: 0.9740 - val_loss: 0.7596 - val_accuracy: 0.8548\n",
            "Epoch 84/100\n",
            "125/125 [==============================] - 45s 361ms/step - loss: 0.0862 - accuracy: 0.9746 - val_loss: 0.7694 - val_accuracy: 0.8541\n",
            "Epoch 85/100\n",
            "125/125 [==============================] - 45s 359ms/step - loss: 0.0850 - accuracy: 0.9745 - val_loss: 0.7773 - val_accuracy: 0.8536\n",
            "Epoch 86/100\n",
            "125/125 [==============================] - 45s 362ms/step - loss: 0.0835 - accuracy: 0.9753 - val_loss: 0.7773 - val_accuracy: 0.8541\n",
            "Epoch 87/100\n",
            "125/125 [==============================] - 45s 364ms/step - loss: 0.0824 - accuracy: 0.9755 - val_loss: 0.7761 - val_accuracy: 0.8539\n",
            "Epoch 88/100\n",
            "125/125 [==============================] - 47s 372ms/step - loss: 0.0812 - accuracy: 0.9757 - val_loss: 0.7913 - val_accuracy: 0.8525\n",
            "Epoch 89/100\n",
            "125/125 [==============================] - 47s 373ms/step - loss: 0.0799 - accuracy: 0.9763 - val_loss: 0.7918 - val_accuracy: 0.8533\n",
            "Epoch 90/100\n",
            "125/125 [==============================] - 47s 373ms/step - loss: 0.0790 - accuracy: 0.9764 - val_loss: 0.7925 - val_accuracy: 0.8543\n",
            "Epoch 91/100\n",
            "125/125 [==============================] - 46s 368ms/step - loss: 0.0780 - accuracy: 0.9766 - val_loss: 0.7953 - val_accuracy: 0.8537\n",
            "Epoch 92/100\n",
            "125/125 [==============================] - 46s 369ms/step - loss: 0.0767 - accuracy: 0.9769 - val_loss: 0.8038 - val_accuracy: 0.8535\n",
            "Epoch 93/100\n",
            "125/125 [==============================] - 46s 367ms/step - loss: 0.0758 - accuracy: 0.9771 - val_loss: 0.8067 - val_accuracy: 0.8531\n",
            "Epoch 94/100\n",
            "125/125 [==============================] - 46s 367ms/step - loss: 0.0743 - accuracy: 0.9777 - val_loss: 0.8056 - val_accuracy: 0.8537\n",
            "Epoch 95/100\n",
            "125/125 [==============================] - 46s 367ms/step - loss: 0.0729 - accuracy: 0.9781 - val_loss: 0.8068 - val_accuracy: 0.8534\n",
            "Epoch 96/100\n",
            "125/125 [==============================] - 46s 368ms/step - loss: 0.0723 - accuracy: 0.9783 - val_loss: 0.8185 - val_accuracy: 0.8525\n",
            "Epoch 97/100\n",
            "125/125 [==============================] - 46s 366ms/step - loss: 0.0711 - accuracy: 0.9785 - val_loss: 0.8230 - val_accuracy: 0.8531\n",
            "Epoch 98/100\n",
            "125/125 [==============================] - 46s 364ms/step - loss: 0.0703 - accuracy: 0.9788 - val_loss: 0.8364 - val_accuracy: 0.8519\n",
            "Epoch 99/100\n",
            "125/125 [==============================] - 47s 376ms/step - loss: 0.0692 - accuracy: 0.9789 - val_loss: 0.8366 - val_accuracy: 0.8524\n",
            "Epoch 100/100\n",
            "125/125 [==============================] - 45s 362ms/step - loss: 0.0687 - accuracy: 0.9791 - val_loss: 0.8339 - val_accuracy: 0.8533\n",
            "Model created\n"
          ]
        }
      ]
    },
    {
      "cell_type": "code",
      "source": [
        "model.save(data_path + 'eng-deu-model.h5')"
      ],
      "metadata": {
        "id": "MsN7hmHrRMXz"
      },
      "execution_count": 12,
      "outputs": []
    },
    {
      "cell_type": "code",
      "source": [
        "import pandas as pd\n",
        "hist_df = pd.DataFrame(history.history)\n",
        "\n",
        "plt = hist_df['loss'].plot(legend=\"Loss\", title=\"Loss and Accuracy vs Epochs\")\n",
        "hist_df['accuracy'].plot(legend=\"Accuracy\")\n",
        "_ = plt.set_xlabel(\"Epochs\")"
      ],
      "metadata": {
        "colab": {
          "base_uri": "https://localhost:8080/",
          "height": 295
        },
        "id": "I4Bv-eb-3fKQ",
        "outputId": "95036f69-30df-42d6-957b-c339c7161f4a"
      },
      "execution_count": 14,
      "outputs": [
        {
          "output_type": "display_data",
          "data": {
            "text/plain": [
              "<Figure size 432x288 with 1 Axes>"
            ],
            "image/png": "[encoded data removed]"
          },
          "metadata": {
            "needs_background": "light"
          }
        }
      ]
    },
    {
      "cell_type": "markdown",
      "source": [
        "## Inference"
      ],
      "metadata": {
        "id": "v4FSOEEhRr0b"
      }
    },
    {
      "cell_type": "code",
      "source": [
        "model = keras.models.load_model(data_path + 'eng-deu-model.h5')\n",
        "\n",
        "encoder_inputs = model.input[0]  # input_1\n",
        "encoder_outputs, state_h_enc, state_c_enc = model.layers[2].output  # lstm_1\n",
        "encoder_states = [state_h_enc, state_c_enc]\n",
        "encoder_model = keras.Model(encoder_inputs, encoder_states, name=\"encoder_model\")\n",
        "\n",
        "decoder_inputs = model.input[1]  # input_2\n",
        "decoder_state_input_h = keras.Input(shape=(HIDDEN_DIM,), name=\"dec_state_h_input\")\n",
        "decoder_state_input_c = keras.Input(shape=(HIDDEN_DIM,), name=\"dec_state_c_input\")\n",
        "decoder_states_inputs = [decoder_state_input_h, decoder_state_input_c]\n",
        "decoder_lstm = model.layers[3]\n",
        "decoder_outputs, state_h_dec, state_c_dec = decoder_lstm(\n",
        "    decoder_inputs, initial_state=decoder_states_inputs)\n",
        "decoder_states = [state_h_dec, state_c_dec]\n",
        "decoder_dense = model.layers[4]\n",
        "decoder_outputs = decoder_dense(decoder_outputs)\n",
        "decoder_model = keras.Model(\n",
        "    [decoder_inputs] + decoder_states_inputs, [decoder_outputs] + decoder_states, name=\"decoder_model\")\n",
        "\n",
        "encoder_model.summary()\n",
        "decoder_model.summary()"
      ],
      "metadata": {
        "colab": {
          "base_uri": "https://localhost:8080/"
        },
        "id": "54lcY3zcRniy",
        "outputId": "c94b25fb-50f4-4707-c01f-71c79972f29f"
      },
      "execution_count": 15,
      "outputs": [
        {
          "output_type": "stream",
          "name": "stdout",
          "text": [
            "Model: \"encoder_model\"\n",
            "_________________________________________________________________\n",
            " Layer (type)                Output Shape              Param #   \n",
            "=================================================================\n",
            " encoder_inputs (InputLayer)  [(None, None, 70)]       0         \n",
            "                                                                 \n",
            " encoder_lstm (LSTM)         [(None, 256),             334848    \n",
            "                              (None, 256),                       \n",
            "                              (None, 256)]                       \n",
            "                                                                 \n",
            "=================================================================\n",
            "Total params: 334,848\n",
            "Trainable params: 334,848\n",
            "Non-trainable params: 0\n",
            "_________________________________________________________________\n",
            "Model: \"decoder_model\"\n",
            "__________________________________________________________________________________________________\n",
            " Layer (type)                   Output Shape         Param #     Connected to                     \n",
            "==================================================================================================\n",
            " decoder_inputs (InputLayer)    [(None, None, 86)]   0           []                               \n",
            "                                                                                                  \n",
            " dec_state_h_input (InputLayer)  [(None, 256)]       0           []                               \n",
            "                                                                                                  \n",
            " dec_state_c_input (InputLayer)  [(None, 256)]       0           []                               \n",
            "                                                                                                  \n",
            " decoder_lstm (LSTM)            [(None, None, 256),  351232      ['decoder_inputs[0][0]',         \n",
            "                                 (None, 256),                     'dec_state_h_input[0][0]',      \n",
            "                                 (None, 256)]                     'dec_state_c_input[0][0]']      \n",
            "                                                                                                  \n",
            " decoder_dense (Dense)          (None, None, 86)     22102       ['decoder_lstm[1][0]']           \n",
            "                                                                                                  \n",
            "==================================================================================================\n",
            "Total params: 373,334\n",
            "Trainable params: 373,334\n",
            "Non-trainable params: 0\n",
            "__________________________________________________________________________________________________\n"
          ]
        }
      ]
    },
    {
      "cell_type": "code",
      "source": [
        "def decode_sequence(input_seq):\n",
        "    states_value = encoder_model.predict(input_seq)\n",
        "\n",
        "    # Generate empty target sequence of length 1.\n",
        "    target_seq = np.zeros((1, 1, num_decoder_tokens))\n",
        "    # Fill the first character of target sequence with the beginning of sequence character.\n",
        "    target_seq[0, 0, target_char2idx[\"\\t\"]] = 1.0\n",
        "\n",
        "    stop_condition = False\n",
        "    decoded_sentence = \"\"\n",
        "    while not stop_condition:\n",
        "        output_tokens, h, c = decoder_model.predict([target_seq] + states_value)\n",
        "\n",
        "        sampled_token_index = np.argmax(output_tokens[0, -1, :])\n",
        "        sampled_char = target_idx2char[sampled_token_index]\n",
        "        decoded_sentence += sampled_char\n",
        "\n",
        "        # Exit condition: either hit max length or find stop character.\n",
        "        if (sampled_char == \"\\n\" or len(decoded_sentence) > max_decoder_seq_length):\n",
        "            stop_condition = True\n",
        "\n",
        "        # Update the target sequence (of length 1).\n",
        "        target_seq = np.zeros((1, 1, num_decoder_tokens))\n",
        "        target_seq[0, 0, sampled_token_index] = 1.0\n",
        "\n",
        "        states_value = [h, c]\n",
        "    return decoded_sentence"
      ],
      "metadata": {
        "id": "NPt1OwDQSZ8o"
      },
      "execution_count": 16,
      "outputs": []
    },
    {
      "cell_type": "code",
      "source": [
        "for seq_index in range(20):\n",
        "    input_seq = encoder_input_data[seq_index : seq_index + 1]\n",
        "    decoded_sentence = decode_sequence(input_seq)\n",
        "    print(\"Input sentence:\", input_texts[seq_index])\n",
        "    print(\"Decoded sentence:\", decoded_sentence)"
      ],
      "metadata": {
        "colab": {
          "base_uri": "https://localhost:8080/"
        },
        "id": "MM6jdmGpTP-v",
        "outputId": "ea8f7767-b868-43e3-d699-f62e2ba879e1"
      },
      "execution_count": 19,
      "outputs": [
        {
          "output_type": "stream",
          "name": "stdout",
          "text": [
            "Input sentence: Hi.\n",
            "Decoded sentence: Hallo!\n",
            "\n",
            "Input sentence: Hi.\n",
            "Decoded sentence: Hallo!\n",
            "\n",
            "Input sentence: Run!\n",
            "Decoded sentence: Lauf!\n",
            "\n",
            "Input sentence: Wow!\n",
            "Decoded sentence: Potzdonner!\n",
            "\n",
            "Input sentence: Wow!\n",
            "Decoded sentence: Potzdonner!\n",
            "\n",
            "Input sentence: Fire!\n",
            "Decoded sentence: Feuer!\n",
            "\n",
            "Input sentence: Help!\n",
            "Decoded sentence: Hilfe!\n",
            "\n",
            "Input sentence: Help!\n",
            "Decoded sentence: Hilfe!\n",
            "\n",
            "Input sentence: Stop!\n",
            "Decoded sentence: Stopp!\n",
            "\n",
            "Input sentence: Wait!\n",
            "Decoded sentence: Warte!\n",
            "\n",
            "Input sentence: Hello!\n",
            "Decoded sentence: Hallo!\n",
            "\n",
            "Input sentence: I try.\n",
            "Decoded sentence: Ich probiere es.\n",
            "\n",
            "Input sentence: I won!\n",
            "Decoded sentence: Ich habe gewonnen!\n",
            "\n",
            "Input sentence: I won!\n",
            "Decoded sentence: Ich habe gewonnen!\n",
            "\n",
            "Input sentence: Smile.\n",
            "Decoded sentence: Lächeln!\n",
            "\n",
            "Input sentence: Cheers!\n",
            "Decoded sentence: Zum Wohl!\n",
            "\n",
            "Input sentence: Freeze!\n",
            "Decoded sentence: Keine Bewegung!\n",
            "\n",
            "Input sentence: Freeze!\n",
            "Decoded sentence: Keine Bewegung!\n",
            "\n",
            "Input sentence: Got it?\n",
            "Decoded sentence: Verstanden?\n",
            "\n",
            "Input sentence: Got it?\n",
            "Decoded sentence: Verstanden?\n",
            "\n"
          ]
        }
      ]
    },
    {
      "cell_type": "code",
      "source": [
        "def preprocess_user_input(user_input):\n",
        "    user_input_len = len(user_input)\n",
        "    if (user_input_len > max_encoder_seq_length):\n",
        "        print(\"<The input has been truncated since it exceeds the maximum input length.>\")\n",
        "        user_input = user_input[: max_encoder_seq_length]\n",
        "    elif (user_input_len < max_encoder_seq_length):\n",
        "        user_input += (max_encoder_seq_length - user_input_len) * ' '\n",
        "    input_seq = np.zeros(shape=(1, max_encoder_seq_length, num_encoder_tokens), dtype='float32')\n",
        "    for i, char in enumerate(user_input):\n",
        "        if (char in input_char2idx.keys()):\n",
        "            input_seq[0, i, input_char2idx[char]] = 1.0\n",
        "        else:\n",
        "            print(\"<'{0}' is not in the input character list.>\".format(char))\n",
        "    return input_seq"
      ],
      "metadata": {
        "id": "OkQcK1VXTvbc"
      },
      "execution_count": 20,
      "outputs": []
    },
    {
      "cell_type": "code",
      "source": [
        "user_input = input(\"Type the English sentence to be translated (Press '0' to exit)\\nInput:\\t\")\n",
        "bot_on = True\n",
        "while bot_on:\n",
        "  input_seq = preprocess_user_input(user_input)\n",
        "  bot_output = decode_sequence(input_seq)\n",
        "  user_input = input(\"Output:\\t\" + bot_output + \"Input:\\t\")\n",
        "  if user_input == \"0\":\n",
        "    bot_on = False"
      ],
      "metadata": {
        "colab": {
          "base_uri": "https://localhost:8080/"
        },
        "id": "oC17juXrCXWH",
        "outputId": "58520f40-badf-4b0f-d769-9b6abdfbcba5"
      },
      "execution_count": 23,
      "outputs": [
        {
          "name": "stdout",
          "output_type": "stream",
          "text": [
            "Type the English sentence to be translated (Press '0' to exit)\n",
            "Input:\tHi.\n",
            "Output:\tHallo!\n",
            "Input:\tHow are you?\n",
            "Output:\tWie geht's dir?\n",
            "Input:\tI am fine.\n",
            "Output:\tIch bin glücklich.\n",
            "Input:\tAre you happy?\n",
            "Output:\tSind Sie glücklich?\n",
            "Input:\tLife is fun.\n",
            "Output:\tDas Leben macht Spaß.\n",
            "Input:\tGoodbye!\n",
            "Output:\tAuf Wiedersehen!\n",
            "Input:\t0\n"
          ]
        }
      ]
    }
  ]
}